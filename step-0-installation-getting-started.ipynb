{
 "cells": [
  {
   "cell_type": "markdown",
   "id": "a6457d25",
   "metadata": {
    "Collapsed": "false"
   },
   "source": [
    "# Installation on `conda_python3` kernel"
   ]
  },
  {
   "cell_type": "markdown",
   "id": "b90d71a3",
   "metadata": {
    "Collapsed": "false"
   },
   "source": [
    "## 1. Set up `conda` + `mmsegmentation`"
   ]
  },
  {
   "cell_type": "markdown",
   "id": "00d304fb",
   "metadata": {
    "Collapsed": "false"
   },
   "source": [
    "Select `conda_python3` kernel"
   ]
  },
  {
   "cell_type": "code",
   "execution_count": null,
   "id": "664dafc8",
   "metadata": {
    "Collapsed": "false"
   },
   "outputs": [],
   "source": [
    "conda create -n open-mmlab python=3.7 -y"
   ]
  },
  {
   "cell_type": "code",
   "execution_count": null,
   "id": "efd1b472",
   "metadata": {
    "Collapsed": "false"
   },
   "outputs": [],
   "source": [
    "! conda update -n base -c defaults conda --yes"
   ]
  },
  {
   "cell_type": "code",
   "execution_count": null,
   "id": "f420e4d3",
   "metadata": {
    "Collapsed": "false"
   },
   "outputs": [],
   "source": [
    "conda install pytorch=1.6.0 torchvision cudatoolkit=10.1 -c pytorch -y"
   ]
  },
  {
   "cell_type": "code",
   "execution_count": null,
   "id": "2ecb0215",
   "metadata": {
    "Collapsed": "false"
   },
   "outputs": [],
   "source": [
    "! pip install mmcv-full==1.2.2 -f https://download.openmmlab.com/mmcv/dist/cu101/torch1.6.0/index.html"
   ]
  },
  {
   "cell_type": "code",
   "execution_count": null,
   "id": "25194454",
   "metadata": {
    "Collapsed": "false"
   },
   "outputs": [],
   "source": [
    "! pip install -e ."
   ]
  },
  {
   "cell_type": "code",
   "execution_count": null,
   "id": "d9c7f187",
   "metadata": {
    "Collapsed": "false"
   },
   "outputs": [],
   "source": [
    "! pip install -r requirements/optional.txt"
   ]
  },
  {
   "cell_type": "markdown",
   "id": "1dc12de8",
   "metadata": {
    "Collapsed": "false"
   },
   "source": [
    "## 2. Getting Started"
   ]
  },
  {
   "cell_type": "markdown",
   "id": "7a27c8fa",
   "metadata": {
    "Collapsed": "false"
   },
   "source": [
    "Need to have multiple GPUs"
   ]
  },
  {
   "cell_type": "code",
   "execution_count": null,
   "id": "7f950e29",
   "metadata": {
    "Collapsed": "false"
   },
   "outputs": [],
   "source": [
    "! mkdir data"
   ]
  },
  {
   "cell_type": "code",
   "execution_count": null,
   "id": "c1a11630",
   "metadata": {
    "Collapsed": "false"
   },
   "outputs": [],
   "source": [
    "! ln -s $DATA_ROOT data"
   ]
  },
  {
   "cell_type": "code",
   "execution_count": null,
   "id": "3acf1579",
   "metadata": {
    "Collapsed": "false"
   },
   "outputs": [],
   "source": [
    "! chmod u+r+x ./tools/dist_train.sh"
   ]
  },
  {
   "cell_type": "code",
   "execution_count": null,
   "id": "dc39d702",
   "metadata": {
    "Collapsed": "false"
   },
   "outputs": [],
   "source": [
    "! ./tools/dist_train.sh configs/SETR/SETR_PUP_768x768_40k_cityscapes_bs_8.py 1"
   ]
  },
  {
   "cell_type": "code",
   "execution_count": null,
   "id": "7174fca6",
   "metadata": {
    "Collapsed": "false"
   },
   "outputs": [],
   "source": []
  }
 ],
 "metadata": {
  "kernelspec": {
   "display_name": "conda_python3",
   "language": "python",
   "name": "conda_python3"
  },
  "language_info": {
   "codemirror_mode": {
    "name": "ipython",
    "version": 3
   },
   "file_extension": ".py",
   "mimetype": "text/x-python",
   "name": "python",
   "nbconvert_exporter": "python",
   "pygments_lexer": "ipython3",
   "version": "3.6.13"
  }
 },
 "nbformat": 4,
 "nbformat_minor": 5
}
